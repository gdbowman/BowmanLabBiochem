{
 "cells": [
  {
   "cell_type": "markdown",
   "metadata": {},
   "source": [
    "# Notebook for plotting nucleosome decentering data"
   ]
  },
  {
   "cell_type": "markdown",
   "metadata": {},
   "source": [
    "This script was used to generate data in Nodelman et al., 2025 NSMB. It reads in a single csv file and plots data in a bar graph.\n",
    "\n",
    "The expected format of the csv file is one construct per row, with the construct name first, followed by values from different replicates. Data can be separated by multiple commas, which allows experiments to be organized by the days they were carried out (OK to have empty cells/multiple commas without data between every one). Note that the first line is ignored (used for naming experimental datasets. Example data (used for paper) is Nodelman2025NSMB-DecenteringData-2025Jan31.csv\n",
    "\n",
    "To run this on your computer, you must give the correct paths/directories for the data and output. These are labeled ###Edit this in the block 'Edit this block - define data filename and directories' "
   ]
  },
  {
   "cell_type": "markdown",
   "metadata": {},
   "source": [
    "This script was made to run with python 3.8.8 (conda install) and\n",
    "\n",
    "jupyter core     : 4.7.1\n",
    "\n",
    "jupyter-notebook : 6.3.0\n",
    "\n",
    "qtconsole        : 5.0.3\n",
    "\n",
    "ipython          : 7.22.0\n",
    "\n",
    "ipykernel        : 5.3.4\n",
    "\n",
    "jupyter client   : 6.1.12\n",
    "\n",
    "jupyter lab      : 3.0.14\n",
    "\n",
    "nbconvert        : 6.0.7\n",
    "\n",
    "\n",
    "ipywidgets       : 7.6.3\n",
    "\n",
    "nbformat         : 5.1.3\n",
    "\n",
    "traitlets        : 5.0.5"
   ]
  },
  {
   "cell_type": "markdown",
   "metadata": {},
   "source": [
    "## preamble"
   ]
  },
  {
   "cell_type": "code",
   "execution_count": 9,
   "metadata": {},
   "outputs": [],
   "source": [
    "%matplotlib inline\n",
    "from __future__ import division\n",
    "import matplotlib\n",
    "#import matplotlib as mpl\n",
    "\n",
    "import matplotlib.pyplot as plt\n",
    "import matplotlib.ticker as ticker\n",
    "import numpy as np\n",
    "import os\n",
    "import sys\n",
    "import time\n",
    "import statistics\n",
    "from pylab import *\n",
    "import re\n",
    "from scipy.interpolate import interp1d\n",
    "from scipy.integrate import odeint\n",
    "import scipy.optimize as opt\n",
    "from scipy.optimize import curve_fit\n",
    "\n",
    "matplotlib.rcParams['font.sans-serif']='Arial'\n",
    "matplotlib.rcParams.update({'font.size': 24, \"axes.formatter.limits\": (-4,4)})\n",
    "plotStyles={\"markersize\":12,\"markeredgewidth\":3.0,\"linewidth\":3.0}\n",
    "\n",
    "\n",
    "colorlist=[\"red\",\"orange\",\"green\",\"dodgerblue\",\"darkviolet\",\"gray\",\"brown\",\"orange\",\"chocolate\",\"blue\",\n",
    "          \"pink\",\"navajowhite\",\"lightgray\",\"cyan\",\"lightskyblue\",\"mediumpurple\",\"red\",\"olive\",\"brown\",\"green\",\n",
    "           \"dodgerblue\",\"darkviolet\",\"red\",\"orange\",\"green\",\"yellowgreen\",\"darkviolet\",\"gray\",\"brown\",\"orange\",\"chocolate\",\"blue\",\n",
    "          \"pink\",\"navajowhite\",\"lightgray\",\"cyan\",\"lightskyblue\",\"mediumpurple\",\"red\",\"olive\",\"brown\",\"green\",\n",
    "           \"dodgerblue\",\"darkviolet\",\"red\",\"orange\",\"green\",\"dodgerblue\",\"darkviolet\",\"gray\",\"brown\",\"orange\",\"chocolate\",\"blue\",\n",
    "          \"pink\",\"navajowhite\",\"lightgray\",\"cyan\",\"lightskyblue\",\"mediumpurple\",\"red\",\"olive\",\"brown\",\"green\",\n",
    "           \"dodgerblue\",\"darkviolet\",\"red\",\"orange\",\"green\",\"dodgerblue\",\"darkviolet\",\"gray\",\"brown\",\"orange\",\"chocolate\",\"blue\",\n",
    "          \"pink\",\"navajowhite\",\"lightgray\",\"cyan\",\"lightskyblue\",\"mediumpurple\",\"red\",\"olive\",\"brown\",\"green\",\n",
    "           \"dodgerblue\",\"darkviolet\"\n",
    "          ]"
   ]
  },
  {
   "cell_type": "markdown",
   "metadata": {},
   "source": [
    "## defs"
   ]
  },
  {
   "cell_type": "code",
   "execution_count": 10,
   "metadata": {},
   "outputs": [],
   "source": [
    "def gettimestamp():\n",
    "    '''\n",
    "    returns a string of the current day-hour-min\n",
    "    be sure to import time in preamble\n",
    "    '''\n",
    "    if time.localtime().tm_min < 10:\n",
    "        currenttimestamp=str(time.localtime().tm_year)+\"_\"+str(time.localtime().tm_mon)+\"_\"+str(time.localtime().tm_mday)+\"-\"+str(time.localtime().tm_hour)+\"0\"+str(time.localtime().tm_min)\n",
    "    else:\n",
    "        currenttimestamp=str(time.localtime().tm_year)+\"_\"+str(time.localtime().tm_mon)+\"_\"+str(time.localtime().tm_mday)+\"-\"+str(time.localtime().tm_hour)+str(time.localtime().tm_min)\n",
    "    return(currenttimestamp)\n",
    "\n",
    "\n",
    "def writelisttofile(tempfilename,templist):\n",
    "    outputfile=open(tempfilename,\"w\")\n",
    "    for line in templist:\n",
    "        outputfile.write(line)\n",
    "    outputfile.close()\n",
    "    \n",
    "def convertcsvtodict(tempfilename,existingdict):\n",
    "    '''\n",
    "    this function takes a filename, assuming it to be a csv file, and dumps data into existing dictionary\n",
    "    note that first line of csv file is skipped.\n",
    "    data format is for first item of each line to be construct name, followed by data.\n",
    "    some data may be blank\n",
    "    '''\n",
    "    tempfile=open(tempfilename,\"r\")\n",
    "    datalist=[]\n",
    "    tempfilelist=tempfile.readlines()\n",
    "    tempfile.close()\n",
    "    existingdict[\"constructlist-all\"]=[]\n",
    "    for i in range(1,len(tempfilelist)): ### skips first line\n",
    "        linelisttemp=tempfilelist[i].split(\",\")\n",
    "        #print(linelisttemp)\n",
    "        #print(\"constructname = \",linelisttemp[0])\n",
    "        ### make new dictionary entry based on this line of data; first item is key==construct name\n",
    "        existingdict[linelisttemp[0]]={}\n",
    "        existingdict[linelisttemp[0]][\"constructname\"]=linelisttemp[0]\n",
    "        existingdict[linelisttemp[0]][\"colordefault\"]=colorlist[i]\n",
    "        existingdict[linelisttemp[0]][\"position\"]=i\n",
    "        existingdict[linelisttemp[0]][\"origdata\"]=[]\n",
    "        existingdict[\"constructlist-all\"].append(linelisttemp[0])\n",
    "        for j in range(1,len(linelisttemp)):\n",
    "            if linelisttemp[j]==\"\" or linelisttemp[j]==\"\\n\":\n",
    "                continue\n",
    "                #print(\"EMPTY\")\n",
    "            else:\n",
    "                existingdict[linelisttemp[0]][\"origdata\"].append(float(linelisttemp[j]))\n",
    "                #print(linelisttemp[j])    \n",
    "    return(existingdict)\n"
   ]
  },
  {
   "cell_type": "markdown",
   "metadata": {},
   "source": [
    "# Edit this block - define datafile name and directories"
   ]
  },
  {
   "cell_type": "code",
   "execution_count": 34,
   "metadata": {
    "scrolled": true
   },
   "outputs": [
    {
     "name": "stdout",
     "output_type": "stream",
     "text": [
      "/Users/gbowman3/temp/\n"
     ]
    }
   ],
   "source": [
    "### Edit this ### \n",
    "csvdirectory=\"/Users/gbowman3/tempdata/\"\n",
    "\n",
    "csvdatafile = csvdirectory+\"Nodelman2025NSMB-DecenteringData-2025Jan31.csv\"\n",
    "\n",
    "### Edit this ###\n",
    "outputdirectory=\"/Users/gbowman3/temp/\"\n",
    "\n",
    "### create output directory if it doesn't already exist\n",
    "try:\n",
    "    os.listdir(outputdirectory)\n",
    "except FileNotFoundError:\n",
    "    os.mkdir(outputdirectory)\n",
    "    print(\"created new directory for output files:\\n{}\\n\\n\".format(outputdirectory))\n",
    "print(outputdirectory)\n"
   ]
  },
  {
   "cell_type": "code",
   "execution_count": 35,
   "metadata": {},
   "outputs": [
    {
     "name": "stdout",
     "output_type": "stream",
     "text": [
      "nuc alone\n",
      "nuc alone orange  0.01+/- 0.01\n",
      "wt\n",
      "wt green  0.10+/- 0.02\n",
      "120B-SAIL-Lobe2\n",
      "120B-SAIL-Lobe2 dodgerblue  0.22+/- 0.01\n",
      "120B-Lobe2\n",
      "120B-Lobe2 darkviolet  0.26+/- 0.02\n",
      "120B-SAIL\n",
      "120B-SAIL gray  0.02+/- 0.01\n",
      "120B-876-881\n",
      "120B-876-881 brown  0.11+/- 0.01\n",
      "120B-884-889\n",
      "120B-884-889 orange  0.31+/- 0.02\n",
      "120B-890-895\n",
      "120B-890-895 chocolate  0.24+/- 0.01\n",
      "120B-896-901\n",
      "120B-896-901 blue  0.28+/- 0.01\n",
      "120B-902-907\n",
      "120B-902-907 pink  0.20+/- 0.02\n",
      "L886N-L889N-L891N\n",
      "L886N-L889N-L891N navajowhite  0.29+/- 0.02\n",
      "L886G-L889G-L891G\n",
      "L886G-L889G-L891G lightgray  0.28+/- 0.01\n",
      "L699Q\n",
      "L699Q cyan  0.30+/- 0.02\n",
      "901-902insertGGS\n",
      "901-902insertGGS lightskyblue  0.20+/- 0.01\n",
      "F917N-L918N-F921N\n",
      "F917N-L918N-F921N mediumpurple  0.16+/- 0.00\n",
      "I843N\n",
      "I843N red  0.01+/- 0.01\n",
      "KAK\n",
      "KAK olive  0.15+/- 0.02\n",
      "M652Q-KAK\n",
      "M652Q-KAK brown  0.22+/- 0.02\n",
      "M652Q\n",
      "M652Q green  0.13+/- 0.01\n"
     ]
    }
   ],
   "source": [
    "### calculate mean and standard deviation for each construct\n",
    "decenteringdict ={}\n",
    "\n",
    "### read data from file\n",
    "decenteringdict=convertcsvtodict(csvdatafile,decenteringdict)\n",
    "\n",
    "### calculate avg and stdev, given the raw data just input\n",
    "for construct in decenteringdict[\"constructlist-all\"]:\n",
    "    decenteringdict[construct][\"AVG\"]=np.mean(decenteringdict[construct][\"origdata\"])\n",
    "    decenteringdict[construct][\"STD\"]=np.std(decenteringdict[construct][\"origdata\"])\n",
    "\n",
    "\n",
    "\n",
    "for item in decenteringdict[\"constructlist-all\"]:\n",
    "    print(item)\n",
    "    print(\"{} {} {:5.2f}+/-{:5.2f}\".format(item, decenteringdict[item][\"colordefault\"],decenteringdict[item][\"AVG\"],decenteringdict[item][\"STD\"]))\n"
   ]
  },
  {
   "cell_type": "code",
   "execution_count": 26,
   "metadata": {},
   "outputs": [],
   "source": [
    "### set colors for bar graph\n",
    "\n",
    "decenteringdict['nuc alone']['color']=\"white\"\n",
    "decenteringdict['wt']['color']=\"dimgray\"\n",
    "decenteringdict['120B-SAIL']['color']=\"lawngreen\"\n",
    "decenteringdict['120B-Lobe2']['color']=\"red\"\n",
    "decenteringdict['120B-SAIL-Lobe2']['color']=\"red\"\n",
    "decenteringdict['120B-876-881']['color']=\"forestgreen\"\n",
    "decenteringdict['120B-884-889']['color']=\"red\"\n",
    "decenteringdict['120B-890-895']['color']=\"darkorange\"\n",
    "decenteringdict['120B-896-901']['color']=\"gold\" #\"lightskyblue\"\n",
    "decenteringdict['120B-902-907']['color']=\"khaki\"\n",
    "decenteringdict['901-902insertGGS']['color']=\"khaki\"\n",
    "decenteringdict['L886G-L889G-L891G']['color']=\"red\"\n",
    "decenteringdict['L886N-L889N-L891N']['color']=\"red\"\n",
    "decenteringdict['F917N-L918N-F921N']['color']=\"dodgerblue\" #\"purple\"\n",
    "decenteringdict['L699Q']['color']=\"green\"\n",
    "decenteringdict['M652Q']['color']=\"white\"\n",
    "decenteringdict['I843N']['color']=\"magenta\"  \n",
    "decenteringdict['KAK']['color']=\"paleturquoise\"  \n",
    "decenteringdict['M652Q-KAK']['color']=\"paleturquoise\"  "
   ]
  },
  {
   "cell_type": "code",
   "execution_count": 27,
   "metadata": {},
   "outputs": [],
   "source": [
    "for construct in decenteringdict[\"constructlist-all\"]:\n",
    "    decenteringdict[construct]['linecolor']=\"black\"\n",
    "    decenteringdict[construct][\"linewidth\"]=1\n",
    "    decenteringdict[construct][\"linestyle\"]='solid'\n",
    "    if \"SAIL-Lobe2\" in construct:\n",
    "        decenteringdict[construct]['linecolor']=\"lawngreen\"\n",
    "        decenteringdict[construct][\"linewidth\"]=5\n",
    "    elif \"120B-Lobe2\" in construct:\n",
    "        decenteringdict[construct]['linecolor']=\"orange\"\n",
    "        decenteringdict[construct][\"linewidth\"]=5\n",
    "    elif \"L886\" in construct:\n",
    "        decenteringdict[construct][\"linestyle\"]='dashed'\n",
    "        decenteringdict[construct]['linecolor']=\"black\"\n",
    "        decenteringdict[construct][\"linewidth\"]=2\n",
    "    elif \"nuc\" in construct:\n",
    "        decenteringdict[construct]['linecolor']=\"black\"\n",
    "        decenteringdict[construct][\"linewidth\"]=1\n",
    "    elif \"insert\" in construct:\n",
    "        decenteringdict[construct][\"linestyle\"]='dotted'\n",
    "        decenteringdict[construct]['linecolor']=\"black\"\n",
    "        decenteringdict[construct][\"linewidth\"]=2\n",
    "    elif \"M652Q-KAK\" in construct:\n",
    "        decenteringdict[construct][\"linestyle\"]='dotted'\n",
    "        decenteringdict[construct]['linecolor']=\"black\"\n",
    "        decenteringdict[construct][\"linewidth\"]=2\n",
    "    elif \"M652Q\" in construct:\n",
    "        decenteringdict[construct][\"linestyle\"]='dotted'\n",
    "        decenteringdict[construct]['linecolor']=\"black\"\n",
    "        decenteringdict[construct][\"linewidth\"]=2\n",
    "        "
   ]
  },
  {
   "cell_type": "code",
   "execution_count": 28,
   "metadata": {},
   "outputs": [
    {
     "name": "stdout",
     "output_type": "stream",
     "text": [
      "*nuc alone*\n",
      "*wt*\n",
      "*120B-SAIL*\n",
      "*120B-876-881*\n",
      "*120B-884-889*\n",
      "*120B-890-895*\n",
      "*120B-896-901*\n",
      "*120B-902-907*\n",
      "*L886N-L889N-L891N*\n",
      "*L886G-L889G-L891G*\n",
      "*F917N-L918N-F921N*\n"
     ]
    }
   ],
   "source": [
    "\n",
    "### reset order: For Figure 1\n",
    "\n",
    "decenteringdict[\"constructlist\"]=['nuc alone', \n",
    "                                  'wt', \n",
    "                                  '120B-SAIL', \n",
    "                                  '120B-876-881', \n",
    "                                  #'120B-SAIL-Lobe2', \n",
    "                                  #'120B-Lobe2',\n",
    "                                  '120B-884-889', \n",
    "                                  '120B-890-895', \n",
    "                                  '120B-896-901', \n",
    "                                  '120B-902-907', \n",
    "                                  'L886N-L889N-L891N',\n",
    "                                  'L886G-L889G-L891G', \n",
    "                                  #'901-902insertGGS',\n",
    "                                  \n",
    "                                  'F917N-L918N-F921N'\n",
    "                                  \n",
    "                                  #'M652Q',\n",
    "                                  #'KAK',\n",
    "                                  #'M652Q-KAK'\n",
    "                                  #'I843N',\n",
    "                                  #'L699Q'\n",
    "                                  \n",
    "                                 ]\n",
    "\n",
    "### change position:\n",
    "### here set position automatically from the list\n",
    "for i in range(len(decenteringdict[\"constructlist\"])):\n",
    "    decenteringdict[decenteringdict[\"constructlist\"][i]]['position']=i\n",
    "\n",
    "for item in decenteringdict[\"constructlist\"]:\n",
    "    print(\"*{}*\".format(item))\n",
    "\n"
   ]
  },
  {
   "cell_type": "code",
   "execution_count": 29,
   "metadata": {
    "scrolled": true
   },
   "outputs": [
    {
     "data": {
      "image/png": "[encoded data removed]",
      "text/plain": [
       "<Figure size 576x252 with 1 Axes>"
      ]
     },
     "metadata": {
      "needs_background": "light"
     },
     "output_type": "display_data"
    }
   ],
   "source": [
    "### plot bar graphs, based on construct list in dictionary\n",
    "plotStyles3={\"markersize\":9,\"markeredgewidth\":2.0,\"linewidth\":6.0}\n",
    "mpl.rcParams.update({'font.size': 18, \"axes.formatter.limits\": (-4,4)})\n",
    "mpl.rcParams.update({\"figure.figsize\": (8,3.5),'errorbar.capsize': 2})\n",
    "\n",
    "\n",
    "updatedpositions = []\n",
    "for construct in decenteringdict[\"constructlist\"]:\n",
    "    updatedpositions.append(decenteringdict[construct][\"position\"])\n",
    "    \n",
    "fig, ax = plt.subplots()\n",
    "spread=0.2\n",
    "w = 0.6    # bar width\n",
    "cap=5\n",
    "for construct in decenteringdict[\"constructlist\"]:\n",
    "    ax.bar(\n",
    "           decenteringdict[construct][\"position\"],\n",
    "           height = decenteringdict[construct][\"AVG\"],\n",
    "           yerr=decenteringdict[construct][\"STD\"],\n",
    "           capsize=cap,\n",
    "           width=w,\n",
    "           linestyle = decenteringdict[construct][\"linestyle\"],\n",
    "           linewidth = decenteringdict[construct][\"linewidth\"],\n",
    "           color=decenteringdict[construct][\"color\"],\n",
    "           edgecolor = decenteringdict[construct][\"linecolor\"]\n",
    "            #color = (0,0,0,0)#\"black\"\n",
    "          )\n",
    "for construct in decenteringdict[\"constructlist\"]:\n",
    "    for point in decenteringdict[construct][\"origdata\"]:\n",
    "        ax.scatter(\n",
    "            decenteringdict[construct][\"position\"] + np.random.random()*w*spread-w*spread/2,point,color=\"black\")\n",
    "\n",
    "\n",
    "plt.xticks(updatedpositions,labels=decenteringdict[\"constructlist\"])\n",
    "plt.yticks(np.arange(0, 0.31, 0.05))\n",
    "#add time stamp to filename\n",
    "workingname=outputdirectory+\"Plot-DecenteringData-\"+gettimestamp()+\".pdf\"\n",
    "\n",
    "#uncomment to save plot as a PDF\n",
    "savefig(workingname,format='pdf',dpi=300, bbox_inches='tight')\n",
    "#ax.set_xticks(updatedpositions,decenteringdict[\"constructlist\"])\n",
    "plt.show()"
   ]
  },
  {
   "cell_type": "code",
   "execution_count": 30,
   "metadata": {},
   "outputs": [
    {
     "name": "stdout",
     "output_type": "stream",
     "text": [
      "*nuc alone*\n",
      "*wt*\n",
      "*120B-SAIL-Lobe2*\n",
      "*120B-Lobe2*\n",
      "*901-902insertGGS*\n",
      "['nuc alone', 'wt', '120B-SAIL-Lobe2', '120B-Lobe2', '901-902insertGGS']\n"
     ]
    }
   ],
   "source": [
    "\n",
    "### reset order: ExtDataFig2\n",
    "decenteringdict[\"constructlist\"]=['nuc alone', \n",
    "                                  'wt', \n",
    "                                  #'120B-SAIL', \n",
    "                                  #'120B-876-881', \n",
    "                                  '120B-SAIL-Lobe2', \n",
    "                                  '120B-Lobe2',\n",
    "                                  #'120B-884-889', \n",
    "                                  #'120B-890-895', \n",
    "                                  #'120B-896-901', \n",
    "                                  #'120B-902-907', \n",
    "                                  #'L886N-L889N-L891N',\n",
    "                                  #'L886G-L889G-L891G', \n",
    "                                  '901-902insertGGS'\n",
    "                                  \n",
    "                                  #'F917N-L918N-F921N'\n",
    "                                  \n",
    "                                  #'M652Q',\n",
    "                                  #'KAK',\n",
    "                                  #'M652Q-KAK'\n",
    "                                  #'I843N',\n",
    "                                  #'L699Q'\n",
    "                                  \n",
    "                                 ]\n",
    "\n",
    "### change position:\n",
    "### here set position automatically from the list\n",
    "for i in range(len(decenteringdict[\"constructlist\"])):\n",
    "    decenteringdict[decenteringdict[\"constructlist\"][i]]['position']=i\n",
    "\n",
    "for item in decenteringdict[\"constructlist\"]:\n",
    "    print(\"*{}*\".format(item))\n",
    "print(decenteringdict[\"constructlist\"])\n"
   ]
  },
  {
   "cell_type": "code",
   "execution_count": 31,
   "metadata": {
    "scrolled": false
   },
   "outputs": [
    {
     "data": {
      "image/png": "[encoded data removed]",
      "text/plain": [
       "<Figure size 252x252 with 1 Axes>"
      ]
     },
     "metadata": {
      "needs_background": "light"
     },
     "output_type": "display_data"
    }
   ],
   "source": [
    "### plot bar graphs, based on construct list in dictionary\n",
    "plotStyles3={\"markersize\":9,\"markeredgewidth\":2.0,\"linewidth\":6.0}\n",
    "mpl.rcParams.update({'font.size': 18, \"axes.formatter.limits\": (-4,4)})\n",
    "mpl.rcParams.update({\"figure.figsize\": (3.5,3.5),'errorbar.capsize': 2})\n",
    "\n",
    "\n",
    "updatedpositions = []\n",
    "for construct in decenteringdict[\"constructlist\"]:\n",
    "    updatedpositions.append(decenteringdict[construct][\"position\"])\n",
    "    \n",
    "fig, ax = plt.subplots()\n",
    "spread=0.2\n",
    "w = 0.6    # bar width\n",
    "cap=5\n",
    "for construct in decenteringdict[\"constructlist\"]:\n",
    "    ax.bar(\n",
    "           decenteringdict[construct][\"position\"],\n",
    "           height = decenteringdict[construct][\"AVG\"],\n",
    "           yerr=decenteringdict[construct][\"STD\"],\n",
    "           capsize=cap,\n",
    "           width=w,\n",
    "           linestyle = decenteringdict[construct][\"linestyle\"],\n",
    "           linewidth = decenteringdict[construct][\"linewidth\"],\n",
    "           color=decenteringdict[construct][\"color\"],\n",
    "           edgecolor = decenteringdict[construct][\"linecolor\"]\n",
    "            #color = (0,0,0,0)#\"black\"\n",
    "          )\n",
    "for construct in decenteringdict[\"constructlist\"]:\n",
    "    for point in decenteringdict[construct][\"origdata\"]:\n",
    "        ax.scatter(\n",
    "            decenteringdict[construct][\"position\"] + np.random.random()*w*spread-w*spread/2,point,color=\"black\")\n",
    "\n",
    "\n",
    "plt.xticks(updatedpositions,labels=decenteringdict[\"constructlist\"])\n",
    "plt.yticks(np.arange(0, 0.31, 0.05))\n",
    "#add time stamp to filename\n",
    "workingname=outputdirectory+\"Plot-DecenteringData-supplFig-\"+gettimestamp()+\".pdf\"\n",
    "\n",
    "#uncomment to save plot as a PDF\n",
    "savefig(workingname,format='pdf',dpi=300, bbox_inches='tight')\n",
    "#ax.set_xticks(updatedpositions,decenteringdict[\"constructlist\"])\n",
    "plt.show()"
   ]
  },
  {
   "cell_type": "code",
   "execution_count": 32,
   "metadata": {},
   "outputs": [
    {
     "name": "stdout",
     "output_type": "stream",
     "text": [
      "*nuc alone*\n",
      "*wt*\n",
      "*120B-884-889*\n",
      "*KAK*\n",
      "*M652Q-KAK*\n",
      "*M652Q*\n",
      "['nuc alone', 'wt', '120B-884-889', 'KAK', 'M652Q-KAK', 'M652Q']\n"
     ]
    }
   ],
   "source": [
    "\n",
    "### reset order: ExtDataFig4\n",
    "decenteringdict[\"constructlist\"]=['nuc alone', \n",
    "                                  'wt', \n",
    "                                  \n",
    "                                  '120B-884-889', \n",
    "                                  \n",
    "                                  'KAK',\n",
    "                                  'M652Q-KAK',\n",
    "                                  'M652Q'\n",
    "                                  \n",
    "                                  \n",
    "                                  #'M652Q'\n",
    "                                  #'I843N',\n",
    "                                  #'L699Q'\n",
    "                                  \n",
    "                                 ]\n",
    "\n",
    "### change position:\n",
    "### here set position automatically from the list\n",
    "for i in range(len(decenteringdict[\"constructlist\"])):\n",
    "    decenteringdict[decenteringdict[\"constructlist\"][i]]['position']=i\n",
    "\n",
    "for item in decenteringdict[\"constructlist\"]:\n",
    "    print(\"*{}*\".format(item))\n",
    "print(decenteringdict[\"constructlist\"])\n"
   ]
  },
  {
   "cell_type": "code",
   "execution_count": 33,
   "metadata": {
    "scrolled": false
   },
   "outputs": [
    {
     "data": {
      "image/png": "[encoded data removed]",
      "text/plain": [
       "<Figure size 252x252 with 1 Axes>"
      ]
     },
     "metadata": {
      "needs_background": "light"
     },
     "output_type": "display_data"
    }
   ],
   "source": [
    "### plot bar graphs, based on construct list in dictionary\n",
    "plotStyles3={\"markersize\":9,\"markeredgewidth\":2.0,\"linewidth\":6.0}\n",
    "mpl.rcParams.update({'font.size': 18, \"axes.formatter.limits\": (-4,4)})\n",
    "mpl.rcParams.update({\"figure.figsize\": (3.5,3.5),'errorbar.capsize': 2})\n",
    "\n",
    "\n",
    "updatedpositions = []\n",
    "for construct in decenteringdict[\"constructlist\"]:\n",
    "    updatedpositions.append(decenteringdict[construct][\"position\"])\n",
    "    \n",
    "fig, ax = plt.subplots()\n",
    "spread=0.75\n",
    "w = 0.6    # bar width\n",
    "cap=5\n",
    "for construct in decenteringdict[\"constructlist\"]:\n",
    "    ax.bar(\n",
    "           decenteringdict[construct][\"position\"],\n",
    "           height = decenteringdict[construct][\"AVG\"],\n",
    "           yerr=decenteringdict[construct][\"STD\"],\n",
    "           capsize=cap,\n",
    "           width=w,\n",
    "           linestyle = decenteringdict[construct][\"linestyle\"],\n",
    "           linewidth = decenteringdict[construct][\"linewidth\"],\n",
    "           color=decenteringdict[construct][\"color\"],\n",
    "           edgecolor = decenteringdict[construct][\"linecolor\"]\n",
    "            #color = (0,0,0,0)#\"black\"\n",
    "          )\n",
    "for construct in decenteringdict[\"constructlist\"]:\n",
    "    for point in decenteringdict[construct][\"origdata\"]:\n",
    "        ax.scatter(\n",
    "            decenteringdict[construct][\"position\"] + np.random.random()*w*spread-w*spread/2,point,color=\"black\", alpha=0.5)\n",
    "\n",
    "\n",
    "plt.xticks(updatedpositions,labels=decenteringdict[\"constructlist\"])\n",
    "plt.yticks(np.arange(0, 0.31, 0.05))\n",
    "#add time stamp to filename\n",
    "workingname=outputdirectory+\"Plot-DecenteringData-supplfig-M652Q-\"+gettimestamp()+\".pdf\"\n",
    "\n",
    "#uncomment to save plot as a PDF\n",
    "savefig(workingname,format='pdf',dpi=300, bbox_inches='tight')\n",
    "#ax.set_xticks(updatedpositions,decenteringdict[\"constructlist\"])\n",
    "plt.show()"
   ]
  },
  {
   "cell_type": "code",
   "execution_count": null,
   "metadata": {},
   "outputs": [],
   "source": []
  }
 ],
 "metadata": {
  "kernelspec": {
   "display_name": "Python 3",
   "language": "python",
   "name": "python3"
  },
  "language_info": {
   "codemirror_mode": {
    "name": "ipython",
    "version": 3
   },
   "file_extension": ".py",
   "mimetype": "text/x-python",
   "name": "python",
   "nbconvert_exporter": "python",
   "pygments_lexer": "ipython3",
   "version": "3.8.8"
  }
 },
 "nbformat": 4,
 "nbformat_minor": 4
}
